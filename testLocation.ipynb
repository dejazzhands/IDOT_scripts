{
 "cells": [
  {
   "cell_type": "code",
   "execution_count": 7,
   "id": "ed8cee2f-8270-49dc-95a0-64badf915f93",
   "metadata": {
    "tags": []
   },
   "outputs": [
    {
     "name": "stdout",
     "output_type": "stream",
     "text": [
      "Incident ID: IL-COMMCENTER-INCIDENT.2023.5.9.22.5825535\n",
      "Description: Incident\n",
      "Location: Entrance ramp from SB I-90\n",
      "------------------------------\n"
     ]
    }
   ],
   "source": [
    "import requests\n",
    "\n",
    "def download_incident_data(path):\n",
    "    base_url = \"https://travelmidwest.com/lmiga/incidents.json\"\n",
    "    params = {\"path\": path}\n",
    "\n",
    "    response = requests.get(base_url, params=params)\n",
    "\n",
    "    if response.status_code == 200:\n",
    "        incidents_data = response.json()\n",
    "        return incidents_data\n",
    "    else:\n",
    "        print(f\"Error: Unable to fetch incident data. Status code: {response.status_code}\")\n",
    "        return None\n",
    "\n",
    "def main():\n",
    "    # Replace this with a valid path from reportLocations.json\n",
    "    incident_path = \"GATEWAY.IL.I-55.I-55 SB\"\n",
    "\n",
    "    incidents_data = download_incident_data(incident_path)\n",
    "\n",
    "    if incidents_data:\n",
    "        for incident_group in incidents_data:\n",
    "            for incident_report in incident_group[\"reportRows\"]:\n",
    "                # Process and print incident data as needed\n",
    "                print(f\"Incident ID: {incident_report['id']}\")\n",
    "                print(f\"Description: {incident_report['description']}\")\n",
    "                print(f\"Location: {incident_report['location']}\")\n",
    "                # Print other relevant fields\n",
    "\n",
    "                print(\"-\" * 30)\n",
    "\n",
    "if __name__ == \"__main__\":\n",
    "    main()\n"
   ]
  },
  {
   "cell_type": "code",
   "execution_count": null,
   "id": "c9d7b4cd-4ec3-477c-a20b-136ae5737cca",
   "metadata": {},
   "outputs": [],
   "source": []
  }
 ],
 "metadata": {
  "kernelspec": {
   "display_name": "Python 3 (ipykernel)",
   "language": "python",
   "name": "python3"
  },
  "language_info": {
   "codemirror_mode": {
    "name": "ipython",
    "version": 3
   },
   "file_extension": ".py",
   "mimetype": "text/x-python",
   "name": "python",
   "nbconvert_exporter": "python",
   "pygments_lexer": "ipython3",
   "version": "3.8.10"
  }
 },
 "nbformat": 4,
 "nbformat_minor": 5
}
